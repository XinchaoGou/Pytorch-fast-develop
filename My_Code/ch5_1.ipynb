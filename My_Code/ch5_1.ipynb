{
 "cells": [
  {
   "cell_type": "code",
   "execution_count": 1,
   "metadata": {},
   "outputs": [],
   "source": [
    "import torch\n",
    "import torch.nn as nn\n",
    "import torchvision.datasets as dsets\n",
    "import torchvision.transforms as transforms\n",
    "from torch.autograd import Variable\n",
    "import torch.utils.data as Data\n",
    "import matplotlib.pyplot as plt\n",
    "# Hyper Parameters \n",
    "input_size = 784\n",
    "hidden_size = 500\n",
    "num_classes = 10\n",
    "num_epochs = 5\n",
    "batch_size = 100\n",
    "learning_rate = 0.001\n",
    "\n",
    "# MNIST Dataset \n",
    "train_dataset = dsets.MNIST(root='./data', \n",
    "                            train=True, \n",
    "                            transform=transforms.ToTensor(),  \n",
    "                            download=True)\n",
    "\n",
    "test_dataset = dsets.MNIST(root='./data', \n",
    "                           train=False, \n",
    "                           transform=transforms.ToTensor())"
   ]
  },
  {
   "cell_type": "code",
   "execution_count": 2,
   "metadata": {},
   "outputs": [],
   "source": [
    "# Data Loader (Input Pipeline)\n",
    "train_loader = torch.utils.data.DataLoader(dataset=train_dataset, \n",
    "                                           batch_size=batch_size, \n",
    "                                           shuffle=True)\n",
    "\n",
    "test_loader = torch.utils.data.DataLoader(dataset=test_dataset, \n",
    "                                          batch_size=batch_size, \n",
    "                                          shuffle=False)\n",
    "test_y=test_dataset.targets"
   ]
  },
  {
   "cell_type": "code",
   "execution_count": 3,
   "metadata": {},
   "outputs": [],
   "source": [
    "# Neural Network Model (1 hidden layer)\n",
    "class Net(nn.Module):\n",
    "    def __init__(self, input_size, hidden_size, num_classes):\n",
    "        super(Net, self).__init__()\n",
    "        self.fc1 = nn.Linear(input_size, hidden_size) \n",
    "        self.relu = nn.ReLU()\n",
    "        self.fc2 = nn.Linear(hidden_size, num_classes)  \n",
    "    \n",
    "    def forward(self, x):\n",
    "        out = self.fc1(x)\n",
    "        out = self.relu(out)\n",
    "        out = self.fc2(out)\n",
    "        return out\n",
    "    \n",
    "net = Net(input_size, hidden_size, num_classes)"
   ]
  },
  {
   "cell_type": "code",
   "execution_count": 4,
   "metadata": {},
   "outputs": [],
   "source": [
    "# Loss and Optimizer\n",
    "criterion = nn.CrossEntropyLoss()  \n",
    "optimizer = torch.optim.Adam(net.parameters(), lr=learning_rate)  "
   ]
  },
  {
   "cell_type": "markdown",
   "metadata": {},
   "source": [
    "# 常见损失函数\n",
    "\n",
    "### 交叉熵损失函数\n",
    "torch.nn.functional.cross_entropy(input, target, weight = None, size_average=True)\n",
    "### KL散度损失函数\n",
    "torch.nn.functional.kl_div(input, target, size_average=True)\n",
    "### 负log likelihood 损失函数\n",
    "torch.nn.functional.nll_loss(input, target, weight=True)\n",
    "m_optimizer = torch.optim.Adam(net.parameters(), lr=learning_rate)"
   ]
  },
  {
   "cell_type": "code",
   "execution_count": 5,
   "metadata": {},
   "outputs": [
    {
     "name": "stdout",
     "output_type": "stream",
     "text": [
      "Epoch [1/5], Step [100/600], Loss: 0.3348\n",
      "Epoch [1/5], Step [200/600], Loss: 0.2586\n",
      "Epoch [1/5], Step [300/600], Loss: 0.1902\n",
      "Epoch [1/5], Step [400/600], Loss: 0.1549\n",
      "Epoch [1/5], Step [500/600], Loss: 0.1471\n",
      "Epoch [1/5], Step [600/600], Loss: 0.2005\n",
      "Epoch [2/5], Step [100/600], Loss: 0.0548\n",
      "Epoch [2/5], Step [200/600], Loss: 0.1131\n",
      "Epoch [2/5], Step [300/600], Loss: 0.0326\n",
      "Epoch [2/5], Step [400/600], Loss: 0.0896\n",
      "Epoch [2/5], Step [500/600], Loss: 0.1115\n",
      "Epoch [2/5], Step [600/600], Loss: 0.1005\n",
      "Epoch [3/5], Step [100/600], Loss: 0.0555\n",
      "Epoch [3/5], Step [200/600], Loss: 0.0902\n",
      "Epoch [3/5], Step [300/600], Loss: 0.0515\n",
      "Epoch [3/5], Step [400/600], Loss: 0.1314\n",
      "Epoch [3/5], Step [500/600], Loss: 0.0270\n",
      "Epoch [3/5], Step [600/600], Loss: 0.0941\n",
      "Epoch [4/5], Step [100/600], Loss: 0.0625\n",
      "Epoch [4/5], Step [200/600], Loss: 0.0843\n",
      "Epoch [4/5], Step [300/600], Loss: 0.0664\n",
      "Epoch [4/5], Step [400/600], Loss: 0.0209\n",
      "Epoch [4/5], Step [500/600], Loss: 0.0954\n",
      "Epoch [4/5], Step [600/600], Loss: 0.0555\n",
      "Epoch [5/5], Step [100/600], Loss: 0.0632\n",
      "Epoch [5/5], Step [200/600], Loss: 0.0296\n",
      "Epoch [5/5], Step [300/600], Loss: 0.0766\n",
      "Epoch [5/5], Step [400/600], Loss: 0.0182\n",
      "Epoch [5/5], Step [500/600], Loss: 0.0574\n",
      "Epoch [5/5], Step [600/600], Loss: 0.0622\n"
     ]
    }
   ],
   "source": [
    "# Train the Model\n",
    "for epoch in range(num_epochs):\n",
    "    for i, (images, labels) in enumerate(train_loader):  \n",
    "        # Convert torch tensor to Variable\n",
    "        images = Variable(images.view(-1, 28*28))\n",
    "        labels = Variable(labels)\n",
    "        \n",
    "        # Forward + Backward + Optimize\n",
    "        optimizer.zero_grad()  # zero the gradient buffer\n",
    "        outputs = net(images)\n",
    "        loss = criterion(outputs, labels)\n",
    "        loss.backward()\n",
    "        optimizer.step()\n",
    "        \n",
    "        if (i+1) % 100 == 0:\n",
    "            print ('Epoch [%d/%d], Step [%d/%d], Loss: %.4f' \n",
    "                   %(epoch+1, num_epochs, i+1, len(train_dataset)//batch_size, loss.data.item()))"
   ]
  },
  {
   "cell_type": "code",
   "execution_count": 6,
   "metadata": {},
   "outputs": [
    {
     "name": "stdout",
     "output_type": "stream",
     "text": [
      "Accuracy of the network on the 10000 test images: 97 %\n"
     ]
    }
   ],
   "source": [
    "# Test the Model\n",
    "correct = 0\n",
    "total = 0\n",
    "for images, labels in test_loader:\n",
    "    images = Variable(images.view(-1, 28*28))\n",
    "    outputs = net(images)\n",
    "    _, predicted = torch.max(outputs.data, 1)\n",
    "    total += labels.size(0)\n",
    "    correct += (predicted == labels).sum()\n",
    "\n",
    "print('Accuracy of the network on the 10000 test images: %d %%' % (100 * correct / total))"
   ]
  },
  {
   "cell_type": "code",
   "execution_count": 7,
   "metadata": {},
   "outputs": [
    {
     "data": {
      "image/png": "[encoded data removed]",
      "text/plain": [
       "<Figure size 432x288 with 1 Axes>"
      ]
     },
     "metadata": {},
     "output_type": "display_data"
    },
    {
     "name": "stdout",
     "output_type": "stream",
     "text": [
      "prediction number [8 9 0 1 2 3 4 5 6 7 8 0 1 2 3 4 7 8 9 7]\n",
      "real number       [7 2 1 0 4 1 4 9 5 9 0 6 9 0 1 5 9 7 3 4]\n"
     ]
    }
   ],
   "source": [
    "# Save the Model\n",
    "for i in range(1,4):\n",
    "\n",
    "    plt.imshow(train_dataset.data[i].numpy(), cmap='gray')  \n",
    "\n",
    "    plt.title('%i' % train_dataset.targets[i])  \n",
    "\n",
    "plt.show()  \n",
    "torch.save(net.state_dict(), 'model.pkl')\n",
    "test_output = net(images[:20])  \n",
    "\n",
    "pred_y = torch.max(test_output, 1)[1].data.numpy().squeeze()  \n",
    "\n",
    "print('prediction number',pred_y)  \n",
    "\n",
    "print('real number      ',test_y[:20].numpy())  "
   ]
  }
 ],
 "metadata": {
  "kernelspec": {
   "display_name": "Python 3",
   "language": "python",
   "name": "python3"
  },
  "language_info": {
   "codemirror_mode": {
    "name": "ipython",
    "version": 3
   },
   "file_extension": ".py",
   "mimetype": "text/x-python",
   "name": "python",
   "nbconvert_exporter": "python",
   "pygments_lexer": "ipython3",
   "version": "3.6.5"
  }
 },
 "nbformat": 4,
 "nbformat_minor": 2
}
