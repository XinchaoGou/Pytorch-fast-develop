{
 "cells": [
  {
   "cell_type": "markdown",
   "metadata": {},
   "source": [
    "# 卷积神经网络"
   ]
  },
  {
   "cell_type": "code",
   "execution_count": null,
   "metadata": {},
   "outputs": [],
   "source": [
    "import torch as torch\n",
    "import torch.nn as nn  \n",
    "from torch.autograd import Variable\n",
    "import torch.utils.data as Data  \n",
    "import torchvision  \n",
    "import matplotlib.pyplot as plt  \n",
    "import numpy as np\n",
    "\n",
    "# 定义超参数\n",
    "EPOCH = 3\n",
    "BATCH_SIZE = 50  \n",
    "LR = 0.001  \n",
    "DOWNLOAD_MNIST = True   \n",
    "\n",
    "# 获取训练集 dataset\n",
    "train_data = torchvision.datasets.MNIST(  \n",
    "             root='./mnist/',\n",
    "             train=True,\n",
    "             transform=torchvision.transforms.ToTensor(),\n",
    "             download=DOWNLOAD_MNIST,  \n",
    "             )  \n"
   ]
  },
  {
   "cell_type": "code",
   "execution_count": null,
   "metadata": {},
   "outputs": [],
   "source": [
    "print(train_data.data.size())  \n",
    "print(train_data.targets.size())\n",
    "# 输出照片比对\n",
    "for i in range(1,4):\n",
    "    plt.imshow(train_data.data[i].numpy(), cmap='gray')  \n",
    "    plt.title('%i' % train_data.targets[i])  \n",
    "    plt.show()  \n",
    "\n",
    "# 加载train_loader\n",
    "train_loader = Data.DataLoader(dataset = train_data, batch_size = BATCH_SIZE)\n",
    "# 用 DataLoader 加载数据集\n",
    "# torch.utils.data.DataLoader(dataset = train_data, batch_size=1,shuffle=False, sampler=None, num_workers=0, pin_memory=False, drop_last=False)"
   ]
  },
  {
   "cell_type": "code",
   "execution_count": 13,
   "metadata": {},
   "outputs": [],
   "source": [
    "# 获取测试集\n",
    "test_data = torchvision.datasets.MNIST(root='./mnist/', train=False)  \n",
    "test_x = Variable(torch.unsqueeze(test_data.data, dim=1)).type(torch.FloatTensor)\n",
    "test_y = test_data.targets"
   ]
  },
  {
   "cell_type": "code",
   "execution_count": 19,
   "metadata": {},
   "outputs": [],
   "source": [
    "# 定义网络结构\n",
    "\n",
    "# 1.需要继承 Module\n",
    "class CNN(nn.Module):  \n",
    "\n",
    "    def __init__(self):  \n",
    "\n",
    "        # 2.需要调用父类构造方法\n",
    "        super(CNN, self).__init__()  \n",
    "\n",
    "        self.conv1 = nn.Sequential(  \n",
    "\n",
    "                     nn.Conv2d(in_channels=1, out_channels=16, kernel_size=5,  \n",
    "\n",
    "                               stride=1, padding=2),\n",
    "                    # 3.pytorch中 激活函数 ReLU 也是一层layer                    \n",
    "                     nn.ReLU(),  \n",
    "\n",
    "                     nn.MaxPool2d(kernel_size=2) # (16,14,14)  \n",
    "\n",
    "                     )  \n",
    "\n",
    "        self.conv2 = nn.Sequential( # (16,14,14)  \n",
    "\n",
    "                     nn.Conv2d(16, 32, 5, 1, 2), # (32,14,14)  \n",
    "\n",
    "                     nn.ReLU(),  \n",
    "\n",
    "                     nn.MaxPool2d(2) # (32,7,7)  \n",
    "\n",
    "                     )  \n",
    "        # 全连接，softmax输出         \n",
    "        self.out = nn.Linear(32*7*7, 10)  \n",
    "        \n",
    "    # 4.需要实现forward()方法，反向传播只需要调用 Variable.backward()    \n",
    "    def forward(self, x):  \n",
    "        x = self.conv1(x)  \n",
    "        x = self.conv2(x)  \n",
    "        x = x.view(x.size(0), -1) # 将（batch，32,7,7）展平为（batch，32*7*7）  \n",
    "        output = self.out(x)  \n",
    "        return output  "
   ]
  },
  {
   "cell_type": "code",
   "execution_count": 21,
   "metadata": {},
   "outputs": [
    {
     "name": "stdout",
     "output_type": "stream",
     "text": [
      "CNN(\n",
      "  (conv1): Sequential(\n",
      "    (0): Conv2d(1, 16, kernel_size=(5, 5), stride=(1, 1), padding=(2, 2))\n",
      "    (1): ReLU()\n",
      "    (2): MaxPool2d(kernel_size=2, stride=2, padding=0, dilation=1, ceil_mode=False)\n",
      "  )\n",
      "  (conv2): Sequential(\n",
      "    (0): Conv2d(16, 32, kernel_size=(5, 5), stride=(1, 1), padding=(2, 2))\n",
      "    (1): ReLU()\n",
      "    (2): MaxPool2d(kernel_size=2, stride=2, padding=0, dilation=1, ceil_mode=False)\n",
      "  )\n",
      "  (out): Linear(in_features=1568, out_features=10, bias=True)\n",
      ")\n",
      "6\n",
      "torch.Size([16, 1, 5, 5])\n"
     ]
    }
   ],
   "source": [
    "# 打印网络的结构参数\n",
    "cnn = CNN()  \n",
    "print(cnn)  \n",
    "params = list(cnn.parameters())\n",
    "print(len(params))\n",
    "print(params[0].size())"
   ]
  },
  {
   "cell_type": "code",
   "execution_count": 23,
   "metadata": {},
   "outputs": [],
   "source": [
    "# 优化方法 和 损失函数\n",
    "\n",
    "# torch.optim 更新方法 SGD, Nesterov-SGD, Adam, RMSProp 等\n",
    "optimizer = torch.optim.Adam(cnn.parameters(), lr=LR)  \n",
    "loss_function = nn.CrossEntropyLoss()  "
   ]
  },
  {
   "cell_type": "code",
   "execution_count": null,
   "metadata": {},
   "outputs": [],
   "source": [
    "for epoch in range(EPOCH):  \n",
    "    for step, (x, y) in enumerate(train_loader):  \n",
    "        b_x = Variable(x)  \n",
    "        b_y = Variable(y)  \n",
    "        output = cnn(b_x)  \n",
    "        loss = loss_function(output, b_y)  \n",
    "        \n",
    "        optimizer.zero_grad()\n",
    "        loss.backward()  \n",
    "        optimizer.step()  \n",
    "        \n",
    "        if step % 100 == 0:  \n",
    "            test_output = cnn(test_x)  \n",
    "            pred_y = torch.max(test_output, 1)[1].data.squeeze()  \n",
    "            accuracy = sum(pred_y == test_y) / test_y.size(0)  \n",
    "            print('Epoch:', epoch, '|Step:', step, '|train loss:%.4f'%loss.item(), '|test accuracy:%.4f'%accuracy)  \n",
    "test_output =cnn(test_x[:20])  \n",
    "pred_y = torch.max(test_output, 1)[1].data.numpy().squeeze()  \n",
    "print(pred_y, 'prediction number')  \n",
    "print(test_y[:20].numpy(), 'real number')"
   ]
  },
  {
   "cell_type": "code",
   "execution_count": 72,
   "metadata": {},
   "outputs": [
    {
     "data": {
      "image/png": "[encoded data removed]",
      "text/plain": [
       "<Figure size 432x288 with 1 Axes>"
      ]
     },
     "metadata": {},
     "output_type": "display_data"
    }
   ],
   "source": [
    "index = 4\n",
    "\n",
    "test_img = test_x[index][0].numpy()\n",
    "test_img = test_img.astype(np.uint8)\n",
    "\n",
    "plt.imshow(test_img)\n",
    "plt.title('%i' % pred_y[index]) \n",
    "plt.show()  "
   ]
  },
  {
   "cell_type": "code",
   "execution_count": null,
   "metadata": {},
   "outputs": [],
   "source": []
  }
 ],
 "metadata": {
  "kernelspec": {
   "display_name": "Python 3",
   "language": "python",
   "name": "python3"
  },
  "language_info": {
   "codemirror_mode": {
    "name": "ipython",
    "version": 3
   },
   "file_extension": ".py",
   "mimetype": "text/x-python",
   "name": "python",
   "nbconvert_exporter": "python",
   "pygments_lexer": "ipython3",
   "version": "3.6.5"
  }
 },
 "nbformat": 4,
 "nbformat_minor": 2
}
