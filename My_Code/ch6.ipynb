{
 "cells": [
  {
   "cell_type": "markdown",
   "metadata": {},
   "source": [
    "# 1. Visdom 介绍\n",
    "# 2. Visdom 基本概念\n",
    "## 2.1 Panes 窗格\n",
    "## 2.2 Environments 环境\n",
    "## 2.3 State 状态\n",
    "## 3. 安装 Visdom\n",
    "    pip install visdom\n",
    "    python -m visdom.server\n",
    "启动服务后在 http://localhost:8097 访问visdom"
   ]
  },
  {
   "cell_type": "markdown",
   "metadata": {},
   "source": [
    "## 4. 可视化接口\n",
    "### 4.1 python 函数属性提取技巧"
   ]
  },
  {
   "cell_type": "code",
   "execution_count": null,
   "metadata": {},
   "outputs": [],
   "source": [
    "from visdom import Visdom\n",
    "vis = Visdom()\n",
    "print(help(vis.text))"
   ]
  },
  {
   "cell_type": "markdown",
   "metadata": {},
   "source": [
    "### 4.2 vis.text"
   ]
  },
  {
   "cell_type": "code",
   "execution_count": null,
   "metadata": {},
   "outputs": [],
   "source": [
    "from visdom import Visdom\n",
    "vis= Visdom()\n",
    "vis.text('Hello, world !')"
   ]
  },
  {
   "cell_type": "markdown",
   "metadata": {},
   "source": [
    "### 4.3 vis.image"
   ]
  },
  {
   "cell_type": "code",
   "execution_count": null,
   "metadata": {},
   "outputs": [],
   "source": [
    "from visdom import Visdom\n",
    "import numpy as np\n",
    "vis= Visdom()\n",
    "\n",
    "# 显示单图片\n",
    "vis.image(\n",
    "    np.random.rand(3, 256, 256),\n",
    "    opts=dict(title='单图片', caption='图片标题1'),\n",
    ")\n",
    "\n",
    "# 显示网格图片\n",
    "vis.images(\n",
    "    np.random.randn(20, 3, 64, 64),\n",
    "    opts=dict(title='网格图像', caption='图片标题2')\n",
    ")\n"
   ]
  },
  {
   "cell_type": "markdown",
   "metadata": {},
   "source": [
    "### 4.4 vis.scatter"
   ]
  },
  {
   "cell_type": "code",
   "execution_count": null,
   "metadata": {},
   "outputs": [],
   "source": [
    "from visdom import Visdom\n",
    "import numpy as np\n",
    "\n",
    "vis = Visdom()\n",
    "\n",
    "# 2D scatterplot with custom intensities (red channel)\n",
    "vis.scatter(\n",
    "    X =  np.random.rand(255, 2),\n",
    "    Y = (np.random.randn(255) > 0) + 1 ,\n",
    "   opts=dict(\n",
    "        markersize=10,\n",
    "        markercolor=np.floor(np.random.random((2, 3)) * 255),\n",
    "\tlegend=['Men', 'Women']\n",
    "    ),\n",
    ")"
   ]
  },
  {
   "cell_type": "markdown",
   "metadata": {},
   "source": [
    "### 4.5 vis.line\n",
    "#### 支持以下属性\n",
    "* options.fillarea\n",
    "* options.colormap\n",
    "* options.markers\n",
    "* options.markersymbol\n",
    "* options.markersize\n",
    "* options.legend"
   ]
  },
  {
   "cell_type": "code",
   "execution_count": null,
   "metadata": {},
   "outputs": [],
   "source": [
    "from visdom import Visdom\n",
    "import numpy as np\n",
    "\n",
    "vis = Visdom()\n",
    "\n",
    "# line plots\n",
    "Y = np.linspace(-5, 5, 100)\n",
    "vis.line(\n",
    "    Y=np.column_stack((Y * Y, np.sqrt(Y + 5))),\n",
    "    X=np.column_stack((Y, Y)),\n",
    "    opts=dict(markers=False),\n",
    ")"
   ]
  },
  {
   "cell_type": "markdown",
   "metadata": {},
   "source": [
    "### 4.6 vis.stem\n",
    "#### 支持以下特定选项\n",
    "* options.colormap\n",
    "* options.legend"
   ]
  },
  {
   "cell_type": "code",
   "execution_count": null,
   "metadata": {},
   "outputs": [],
   "source": [
    "from visdom import Visdom\n",
    "import numpy as np\n",
    "import math\n",
    "\n",
    "vis = Visdom()\n",
    "\n",
    "# stemplot\n",
    "Y = np.linspace(0, 2 * math.pi, 70)\n",
    "X = np.column_stack((np.sin(Y), np.cos(Y)))\n",
    "vis.stem(\n",
    "    X=X,\n",
    "    Y=Y,\n",
    "    opts=dict(legend=['Sine', 'Cosine'])\n",
    ")"
   ]
  },
  {
   "cell_type": "markdown",
   "metadata": {},
   "source": [
    "### 4.7 vis.heatmap\n",
    "#### 支持下列特定选项\n",
    "* options.colormap\n",
    "* options.xmin\n",
    "* options.xmax\n",
    "* optinos.columnnames\n",
    "* options.rownames"
   ]
  },
  {
   "cell_type": "code",
   "execution_count": null,
   "metadata": {},
   "outputs": [],
   "source": [
    "from visdom import Visdom\n",
    "import numpy as np\n",
    "import math\n",
    "\n",
    "vis = Visdom()\n",
    "\n",
    "vis.heatmap(\n",
    "    X=np.outer(np.arange(1, 6), np.arange(1, 11)),\n",
    "    opts=dict(\n",
    "        columnnames=['a', 'b', 'c', 'd', 'e', 'f', 'g', 'h', 'i', 'j'],\n",
    "        rownames=['y1', 'y2', 'y3', 'y4', 'y5'],\n",
    "        colormap='Electric',\n",
    "    )\n",
    ")"
   ]
  },
  {
   "cell_type": "markdown",
   "metadata": {},
   "source": [
    "### 4.8 vis.bar\n",
    "#### 支持以下特定选项\n",
    "* options.columnnames\n",
    "* options.stacked\n",
    "* options.legend"
   ]
  },
  {
   "cell_type": "code",
   "execution_count": null,
   "metadata": {},
   "outputs": [],
   "source": [
    "from visdom import Visdom\n",
    "import numpy as np\n",
    "import math\n",
    "\n",
    "vis = Visdom()\n",
    "\n",
    "# 单个条形图\n",
    "vis.bar(X=np.random.rand(20))\n",
    "\n",
    "# 堆叠条形图\n",
    "vis.bar(\n",
    "    X=np.abs(np.random.rand(5, 3)),\n",
    "    opts=dict(\n",
    "        stacked=True,\n",
    "        legend=['Sina', '163', 'AliBaBa'],\n",
    "        rownames=['2013', '2014', '2015', '2016', '2017']\n",
    "    )\n",
    ")\n",
    "\n",
    "# 分组条形图\n",
    "vis.bar(\n",
    "    X=np.random.rand(20, 3),\n",
    "    opts=dict(\n",
    "        stacked=False,\n",
    "        legend=['A', 'B', 'C']\n",
    "    )\n",
    ")"
   ]
  },
  {
   "cell_type": "markdown",
   "metadata": {},
   "source": [
    "### 4.9 vis.histogram\n",
    "#### 支持以下特定选项\n",
    "* options.numbins"
   ]
  },
  {
   "cell_type": "code",
   "execution_count": null,
   "metadata": {},
   "outputs": [],
   "source": [
    "from visdom import Visdom\n",
    "import numpy as np\n",
    "\n",
    "vis = Visdom()\n",
    "\n",
    "vis.histogram(X=np.random.rand(10000), opts=dict(numbins=20))"
   ]
  },
  {
   "cell_type": "markdown",
   "metadata": {},
   "source": [
    "### 4.10 vis.boxplot\n",
    "#### 支持以下特定选项\n",
    "* options.legend"
   ]
  },
  {
   "cell_type": "code",
   "execution_count": null,
   "metadata": {},
   "outputs": [],
   "source": [
    "from visdom import Visdom\n",
    "import numpy as np\n",
    "\n",
    "vis = Visdom()\n",
    "\n",
    "# boxplot\n",
    "X = np.random.rand(100, 2)\n",
    "X[:, 1] += 2\n",
    "\n",
    "vis.boxplot(\n",
    "    X=X,\n",
    "    opts=dict(legend=['Men', 'Women'])\n",
    ")"
   ]
  },
  {
   "cell_type": "markdown",
   "metadata": {},
   "source": [
    "### 4.11 vis.surf\n",
    "#### 支持以下特定选项\n",
    "* options.colormap\n",
    "* options.xmin\n",
    "* options.xmax"
   ]
  },
  {
   "cell_type": "code",
   "execution_count": null,
   "metadata": {},
   "outputs": [],
   "source": [
    "from visdom import Visdom\n",
    "import numpy as np\n",
    "\n",
    "vis = Visdom()\n",
    "\n",
    "x = np.tile(np.arange(1, 101), (100, 1))\n",
    "y = x.transpose()\n",
    "X = np.exp((((x - 50) ** 2) + ((y - 50) ** 2)) / -(20.0 ** 2))\n",
    "\n",
    "vis.surf(X=X, opts=dict(colormap='Hot'))"
   ]
  },
  {
   "cell_type": "markdown",
   "metadata": {},
   "source": [
    "### 4.12 vis.contour\n",
    "#### 支持以下特定选项\n",
    "* options.colormap\n",
    "* options.xmin\n",
    "* options.xmax"
   ]
  },
  {
   "cell_type": "code",
   "execution_count": null,
   "metadata": {},
   "outputs": [
    {
     "name": "stderr",
     "output_type": "stream",
     "text": [
      "ERROR:visdom:[Errno 61] Connection refused\n",
      "ERROR:visdom:[Errno 61] Connection refused\n"
     ]
    }
   ],
   "source": [
    "from visdom import Visdom\n",
    "import numpy as np\n",
    "\n",
    "vis = Visdom()\n",
    "\n",
    "x = np.tile(np.arange(1, 101), (100, 1))\n",
    "y = x.transpose()\n",
    "X = np.exp((((x - 50) ** 2) + ((y - 50) ** 2)) / -(20.0 ** 2))\n",
    "\n",
    "vis.contour(X=X, opts=dict(colormap='Viridis'))"
   ]
  },
  {
   "cell_type": "markdown",
   "metadata": {},
   "source": [
    "### 4.13 vis.mesh\n",
    "#### 支持以下特定选项\n",
    "* options.color\n",
    "* options.opacity"
   ]
  },
  {
   "cell_type": "code",
   "execution_count": null,
   "metadata": {},
   "outputs": [],
   "source": [
    "from visdom import Visdom\n",
    "import numpy as np\n",
    "\n",
    "vis = Visdom()\n",
    "\n",
    "# mesh plot\n",
    "x = [0, 0, 1, 1, 0, 0, 1, 1]\n",
    "y = [0, 1, 1, 0, 0, 1, 1, 0]\n",
    "z = [0, 0, 0, 0, 1, 1, 1, 1]\n",
    "X = np.c_[x, y, z]\n",
    "i = [7, 0, 0, 0, 4, 4, 6, 6, 4, 0, 3, 2]\n",
    "j = [3, 4, 1, 2, 5, 6, 5, 2, 0, 1, 6, 3]\n",
    "k = [0, 7, 2, 3, 6, 7, 1, 1, 5, 5, 7, 6]\n",
    "Y = np.c_[i, j, k]\n",
    "\n",
    "vis.mesh(X=X, Y=Y, opts=dict(opacity=0.5))"
   ]
  },
  {
   "cell_type": "markdown",
   "metadata": {},
   "source": [
    "### 4.14 vis.svg"
   ]
  },
  {
   "cell_type": "code",
   "execution_count": null,
   "metadata": {},
   "outputs": [],
   "source": [
    "from visdom import Visdom\n",
    "import numpy as np\n",
    "\n",
    "vis = Visdom()\n",
    "\n",
    "svgstr = \"\"\"\n",
    "<svg height=\"300\" width=\"300\">\n",
    "  <ellipse cx=\"80\" cy=\"80\" rx=\"50\" ry=\"30\"\n",
    "   style=\"fill:red;stroke:purple;stroke-width:2\" />\n",
    "  抱歉，你的浏览器不支持在线显示SVG对象.\n",
    "</svg>\n",
    "\"\"\"\n",
    "vis.svg(\n",
    "    svgstr=svgstr,\n",
    "    opts=dict(title='SVG图像')\n",
    ")"
   ]
  },
  {
   "cell_type": "code",
   "execution_count": null,
   "metadata": {},
   "outputs": [],
   "source": []
  }
 ],
 "metadata": {
  "kernelspec": {
   "display_name": "Python 3",
   "language": "python",
   "name": "python3"
  },
  "language_info": {
   "codemirror_mode": {
    "name": "ipython",
    "version": 3
   },
   "file_extension": ".py",
   "mimetype": "text/x-python",
   "name": "python",
   "nbconvert_exporter": "python",
   "pygments_lexer": "ipython3",
   "version": "3.6.5"
  }
 },
 "nbformat": 4,
 "nbformat_minor": 2
}
