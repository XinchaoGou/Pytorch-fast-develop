{
 "cells": [
  {
   "cell_type": "markdown",
   "metadata": {},
   "source": [
    "# 1. 经典卷积神经网络\n",
    "## 1.1 LeNet-5神经网络结构\n",
    "![LeNet-5](img/LeNet-5.png)\n"
   ]
  },
  {
   "cell_type": "markdown",
   "metadata": {},
   "source": [
    "### 1.2 AlexNet 网络结构\n",
    "![AlexNet](img/AlexNet.png)"
   ]
  },
  {
   "cell_type": "markdown",
   "metadata": {},
   "source": [
    "### 1.3 VGG 网络结构\n",
    "![VGG](img/VGG.png)\n",
    "![VGG-structure](img/VGG_structure.png)"
   ]
  },
  {
   "cell_type": "markdown",
   "metadata": {},
   "source": [
    "### 1.4 Inception 网络结构\n",
    "![Inception_v1](img/Inception_v1.png)\n",
    "![Inception_structure](img/Inception_structure.png)"
   ]
  },
  {
   "cell_type": "markdown",
   "metadata": {},
   "source": [
    "### 1.5 ResNet 网络结构\n",
    "![Residual_learning](img/Residual_learning.png)\n",
    "![Res_building_block](img/Res_building_block.png)\n",
    "![Res_table](img/Res_table.png)\n",
    "![Res_structure](img/Res_structure.png)"
   ]
  }
 ],
 "metadata": {
  "kernelspec": {
   "display_name": "Python 3",
   "language": "python",
   "name": "python3"
  },
  "language_info": {
   "codemirror_mode": {
    "name": "ipython",
    "version": 3
   },
   "file_extension": ".py",
   "mimetype": "text/x-python",
   "name": "python",
   "nbconvert_exporter": "python",
   "pygments_lexer": "ipython3",
   "version": "3.6.5"
  }
 },
 "nbformat": 4,
 "nbformat_minor": 2
}
